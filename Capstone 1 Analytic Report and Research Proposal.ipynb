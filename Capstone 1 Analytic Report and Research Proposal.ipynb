{
 "cells": [
  {
   "cell_type": "code",
   "execution_count": 1,
   "metadata": {},
   "outputs": [],
   "source": [
    "import matplotlib.pyplot as plt\n",
    "import numpy as np\n",
    "import pandas as pd"
   ]
  },
  {
   "cell_type": "markdown",
   "metadata": {},
   "source": [
    "Let's begin at the beginning and get a dataset - I'm going to use all NBA box score data from 2012-2018 for this exercise."
   ]
  },
  {
   "cell_type": "code",
   "execution_count": 2,
   "metadata": {},
   "outputs": [],
   "source": [
    "df = pd.read_csv(r'C:\\Users\\JohnSteph\\Documents\\thinkful\\nba-enhanced-stats\\2012-18_teamBoxScore.csv')"
   ]
  },
  {
   "cell_type": "markdown",
   "metadata": {},
   "source": [
    "What happens when we first look over a scatter of average points scored vs average points against?"
   ]
  },
  {
   "cell_type": "code",
   "execution_count": 3,
   "metadata": {},
   "outputs": [
    {
     "data": {
      "image/png": "[encoded data removed]",
      "text/plain": [
       "<Figure size 432x288 with 1 Axes>"
      ]
     },
     "metadata": {
      "needs_background": "light"
     },
     "output_type": "display_data"
    }
   ],
   "source": [
    "plt.scatter(x = df.groupby('teamAbbr')['opptPTS'].mean(), y = df.groupby('teamAbbr')['teamPTS'].mean())\n",
    "plt.xlabel('Opponent PPG')\n",
    "plt.ylabel('Team PPG')\n",
    "plt.show()"
   ]
  },
  {
   "cell_type": "markdown",
   "metadata": {},
   "source": [
    "This isn't very useful! There's no clear correlation between offensive and defensive success. Let's take this a step further and see if we can correlate winning to *net* PPG."
   ]
  },
  {
   "cell_type": "code",
   "execution_count": 4,
   "metadata": {},
   "outputs": [
    {
     "data": {
      "image/png": "[encoded data removed]",
      "text/plain": [
       "<Figure size 432x288 with 1 Axes>"
      ]
     },
     "metadata": {
      "needs_background": "light"
     },
     "output_type": "display_data"
    }
   ],
   "source": [
    "net_ppg = df.groupby('teamAbbr')['teamPTS'].mean() - df.groupby('teamAbbr')['opptPTS'].mean()\n",
    "wins = df[df['teamRslt'].str.contains(\"Win\")].groupby('teamAbbr').size()\n",
    "losses = df[df['teamRslt'].str.contains(\"Loss\")].groupby('teamAbbr').size()\n",
    "win_rate = wins / (wins + losses)\n",
    "plt.scatter(x = net_ppg, y = win_rate)\n",
    "plt.xlabel('Net PPG')\n",
    "plt.ylabel('Win Rate')\n",
    "plt.show()"
   ]
  },
  {
   "cell_type": "markdown",
   "metadata": {},
   "source": [
    "Now we're starting to see something! This follows the intuition that outscoring opponents by more generally leads to more winning. Do any teams in particular stand out?"
   ]
  },
  {
   "cell_type": "code",
   "execution_count": 5,
   "metadata": {},
   "outputs": [
    {
     "data": {
      "image/png": "[encoded data removed]",
      "text/plain": [
       "<Figure size 432x288 with 1 Axes>"
      ]
     },
     "metadata": {
      "needs_background": "light"
     },
     "output_type": "display_data"
    }
   ],
   "source": [
    "plt.boxplot(net_ppg)\n",
    "plt.show()"
   ]
  },
  {
   "cell_type": "markdown",
   "metadata": {},
   "source": [
    "It doesn't appear that there are any particularly extreme outliers here - this makes sense given the large sample size of games (6 full seasons * 82 games per season per team). Let's at least see who our best and worst teams are..."
   ]
  },
  {
   "cell_type": "code",
   "execution_count": 6,
   "metadata": {},
   "outputs": [
    {
     "name": "stdout",
     "output_type": "stream",
     "text": [
      "teamAbbr\n",
      "PHI   -5.699187\n",
      "ORL   -5.193089\n",
      "LAL   -4.995935\n",
      "PHO   -4.398374\n",
      "SAC   -4.138211\n",
      "BKN   -3.321138\n",
      "NY    -2.640244\n",
      "MIL   -2.321138\n",
      "MIN   -1.817073\n",
      "NO    -1.727642\n",
      "CHA   -1.575203\n",
      "DET   -1.550813\n",
      "CHI   -0.483740\n",
      "DEN   -0.286585\n",
      "DAL   -0.260163\n",
      "MEM    0.166667\n",
      "WAS    0.223577\n",
      "ATL    0.443089\n",
      "UTA    0.500000\n",
      "BOS    0.818737\n",
      "CLE    1.103659\n",
      "POR    1.325203\n",
      "IND    1.930754\n",
      "MIA    2.201220\n",
      "TOR    3.548780\n",
      "HOU    4.319106\n",
      "LAC    4.770325\n",
      "OKC    4.863821\n",
      "SA     6.839431\n",
      "GS     7.359756\n",
      "dtype: float64\n"
     ]
    }
   ],
   "source": [
    "print(net_ppg.sort_values())"
   ]
  },
  {
   "cell_type": "markdown",
   "metadata": {},
   "source": [
    "Unsurprisingly, Golden State shows up as the best team and Philadelphia as the worst over this time frame (#TrustTheProcess). Let's delve into the differences between these 2 teams and see if we can't figure out other aspects that increase the likelihood of winning. What if we look at overall team stats from this time period?"
   ]
  },
  {
   "cell_type": "code",
   "execution_count": 7,
   "metadata": {
    "scrolled": false
   },
   "outputs": [
    {
     "name": "stdout",
     "output_type": "stream",
     "text": [
      "             teamPTS    teamAST     teamTO   teamSTL   teamBLK     teamPF  \\\n",
      "teamAbbr                                                                    \n",
      "ATL       101.808943  24.682927  15.111789  8.424797  4.695122  18.646341   \n",
      "BKN       100.739837  21.593496  14.926829  7.347561  4.369919  19.808943   \n",
      "BOS       101.989817  23.362525  14.138493  7.940937  4.209776  20.973523   \n",
      "CHA       100.158537  21.258130  12.502033  6.733740  5.205285  17.896341   \n",
      "CHI        99.180894  22.705285  14.101626  7.036585  5.038618  18.796748   \n",
      "CLE       103.898374  22.115854  13.910569  7.121951  3.941057  19.436992   \n",
      "DAL       102.286585  22.485772  12.900407  7.666667  4.256098  19.752033   \n",
      "DEN       105.932927  23.619919  14.995935  7.778455  5.048780  20.888211   \n",
      "DET       100.243902  21.182927  13.660569  7.441057  4.290650  19.063008   \n",
      "GS        109.936992  26.977642  15.028455  8.341463  5.920732  20.443089   \n",
      "HOU       108.632114  22.630081  15.713415  8.672764  4.873984  20.654472   \n",
      "IND       100.285132  21.297352  14.348269  7.665988  5.057026  20.004073   \n",
      "LAC       106.315041  23.491870  13.585366  8.296748  4.975610  20.819106   \n",
      "LAL       102.266260  21.713415  14.674797  7.453252  4.652439  20.184959   \n",
      "MEM        97.794715  21.325203  13.713415  8.184959  4.577236  20.973577   \n",
      "MIA       101.065041  21.697154  14.241870  7.815041  5.325203  19.502033   \n",
      "MIL       100.223577  23.073171  14.825203  8.272358  5.518293  20.709350   \n",
      "MIN       102.987805  22.939024  14.213415  8.308943  4.266260  19.148374   \n",
      "NO        101.987805  22.674797  13.804878  7.414634  5.599593  19.983740   \n",
      "NY         99.597561  21.028455  13.630081  7.077236  4.831301  20.727642   \n",
      "OKC       106.750000  21.506098  15.044715  8.034553  5.882114  21.136179   \n",
      "ORL        98.810976  22.282520  14.388211  7.473577  4.548780  20.016260   \n",
      "PHI        99.042683  22.918699  16.209350  8.569106  5.144309  21.361789   \n",
      "PHO       102.550813  20.579268  15.733740  7.975610  4.626016  22.205285   \n",
      "POR       104.290650  21.477642  13.985772  6.563008  4.719512  19.725610   \n",
      "SA        103.859756  24.298780  13.788618  7.967480  5.567073  17.936992   \n",
      "SAC       101.715447  21.430894  15.117886  7.754065  4.095528  20.821138   \n",
      "TOR       103.945122  20.835366  13.321138  7.581301  4.967480  21.404472   \n",
      "UTA        98.451220  20.733740  14.676829  7.668699  5.325203  20.002033   \n",
      "WAS       102.046748  23.737805  14.676829  7.965447  4.359756  20.857724   \n",
      "\n",
      "            teamTRB  \n",
      "teamAbbr             \n",
      "ATL       41.628049  \n",
      "BKN       42.335366  \n",
      "BOS       42.843177  \n",
      "CHA       43.351626  \n",
      "CHI       45.044715  \n",
      "CLE       43.087398  \n",
      "DAL       41.347561  \n",
      "DEN       45.103659  \n",
      "DET       44.705285  \n",
      "GS        44.851626  \n",
      "HOU       43.890244  \n",
      "IND       44.000000  \n",
      "LAC       42.711382  \n",
      "LAL       43.772358  \n",
      "MEM       42.103659  \n",
      "MIA       40.973577  \n",
      "MIL       41.518293  \n",
      "MIN       42.276423  \n",
      "NO        42.914634  \n",
      "NY        42.463415  \n",
      "OKC       46.032520  \n",
      "ORL       42.465447  \n",
      "PHI       43.077236  \n",
      "PHO       43.623984  \n",
      "POR       44.615854  \n",
      "SA        43.363821  \n",
      "SAC       42.579268  \n",
      "TOR       42.481707  \n",
      "UTA       42.827236  \n",
      "WAS       42.957317  \n"
     ]
    }
   ],
   "source": [
    "print(df[['teamAbbr', 'teamPTS', 'teamAST', 'teamTO', 'teamSTL', 'teamBLK', 'teamPF', 'teamTRB']].groupby('teamAbbr').mean())"
   ]
  },
  {
   "cell_type": "markdown",
   "metadata": {},
   "source": [
    "Surprisingly, Philadelphia does outperform Golden State in one aspect - they averaged more steals over these 6 seasons. Are steals not very well correlated to winning, then?"
   ]
  },
  {
   "cell_type": "code",
   "execution_count": 8,
   "metadata": {},
   "outputs": [],
   "source": [
    "gs = df.loc[df['teamAbbr'] == 'GS']\n",
    "phi = df.loc[df['teamAbbr'] == 'PHI']"
   ]
  }
 ],
 "metadata": {
  "kernelspec": {
   "display_name": "Python 3",
   "language": "python",
   "name": "python3"
  },
  "language_info": {
   "codemirror_mode": {
    "name": "ipython",
    "version": 3
   },
   "file_extension": ".py",
   "mimetype": "text/x-python",
   "name": "python",
   "nbconvert_exporter": "python",
   "pygments_lexer": "ipython3",
   "version": "3.7.2"
  }
 },
 "nbformat": 4,
 "nbformat_minor": 2
}
